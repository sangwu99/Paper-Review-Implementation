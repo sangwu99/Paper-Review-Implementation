{
  "cells": [
    {
      "cell_type": "code",
      "execution_count": null,
      "metadata": {
        "id": "-_cOWnNnG2ow"
      },
      "outputs": [],
      "source": [
        "from typing import Tuple, List\n",
        "\n",
        "import os\n",
        "import pandas as pd\n",
        "import numpy as np\n",
        "import random\n",
        "from matplotlib import pyplot as plt\n",
        "import torch\n",
        "import torch.nn as nn\n",
        "import torch.optim as optim\n",
        "import torch.nn.functional as F\n",
        "from torch.utils.data import Dataset, DataLoader \n",
        "\n",
        "device = torch.device('cuda:0' if torch.cuda.is_available() else 'cpu')\n",
        "print (\"device:[%s].\"%(device))\n",
        "\n",
        "%matplotlib inline"
      ]
    },
    {
      "cell_type": "code",
      "execution_count": null,
      "metadata": {
        "id": "4nHVr_PKG2oz"
      },
      "outputs": [],
      "source": [
        "seed = 0\n",
        "\n",
        "random.seed(seed)\n",
        "np.random.seed(seed)"
      ]
    },
    {
      "cell_type": "code",
      "execution_count": null,
      "metadata": {
        "id": "ne9IbylhG2o0"
      },
      "outputs": [],
      "source": [
        "\n",
        "base_path = os.path.join(dpath, 'data')\n",
        "data_path = os.path.join(base_path, 'ml-latest-small')"
      ]
    },
    {
      "cell_type": "code",
      "execution_count": null,
      "metadata": {
        "id": "vVipsxwyG2o1"
      },
      "outputs": [],
      "source": [
        "rating_path = os.path.join(data_path, 'ratings.csv')\n",
        "\n",
        "ratings_df = pd.read_csv(rating_path, encoding='utf-8')\n",
        "ratings_df['user'] = ratings_df['userId'] - 1\n",
        "ratings_df['item'] = ratings_df['movieId'] - 1\n",
        "ratings_df.head()"
      ]
    },
    {
      "cell_type": "code",
      "source": [
        "item_encoder = {}\n",
        "for idx, item in enumerate(ratings_df['item'].unique()):\n",
        "    item_encoder[item] = idx\n",
        "item_encoder"
      ],
      "metadata": {
        "id": "vUJmurg0I7xU"
      },
      "execution_count": null,
      "outputs": []
    },
    {
      "cell_type": "code",
      "source": [
        "user_num = len(ratings_df.user.unique())\n",
        "item_num = len(ratings_df.item.unique())\n",
        "global_bias = ratings_df.rating.mean()"
      ],
      "metadata": {
        "id": "4GUyPGGFtL2-"
      },
      "execution_count": null,
      "outputs": []
    },
    {
      "cell_type": "markdown",
      "source": [
        "MF Model Implementation"
      ],
      "metadata": {
        "id": "zLw7VpflPIFB"
      }
    },
    {
      "cell_type": "code",
      "source": [
        "class MovieLens(Dataset):\n",
        "    def __init__(self,df,item_encoder):\n",
        "        self.df = df\n",
        "        self.item_encoder = item_encoder\n",
        "        self.user = torch.tensor(self.df['user'].tolist())\n",
        "        self.item = torch.tensor([self.item_encoder[i] for i in self.df['item'].tolist()])\n",
        "        self.y = torch.tensor(self.df['rating'].tolist())\n",
        "\n",
        "    def __len__(self):\n",
        "        return len(self.df)\n",
        "\n",
        "\n",
        "    def __getitem__(self,idx):\n",
        "        return self.user[idx], self.item[idx], self.y[idx]\n",
        "\n",
        "        "
      ],
      "metadata": {
        "id": "r2UAkUqInngO"
      },
      "execution_count": null,
      "outputs": []
    },
    {
      "cell_type": "code",
      "source": [
        "MovieLens_dataset = MovieLens(ratings_df, item_encoder)\n",
        "BATCH_SIZE = 16\n",
        "train_iter = DataLoader(MovieLens_dataset,batch_size=BATCH_SIZE,shuffle=True,num_workers=1)"
      ],
      "metadata": {
        "id": "3yWeBZxWviEc"
      },
      "execution_count": null,
      "outputs": []
    },
    {
      "cell_type": "code",
      "source": [
        "class MF(nn.Module):\n",
        "    def __init__(self,user_num,item_num,emb_dim,global_bias):\n",
        "        super(MF,self).__init__()\n",
        "        self.user_emb = nn.Embedding(user_num,emb_dim)\n",
        "        self.item_emb = nn.Embedding(item_num,emb_dim)\n",
        "        self.user_bias = nn.Embedding(user_num,1)\n",
        "        self.item_bias = nn.Embedding(item_num,1)\n",
        "        self.global_bias = global_bias\n",
        "    \n",
        "    def forward(self,user_id,item_id):\n",
        "        user_emb = self.user_emb(user_id)\n",
        "        item_emb = self.item_emb(item_id)\n",
        "        user_bias = self.user_bias(user_id)\n",
        "        item_bias = self.item_bias(item_id)\n",
        "        out = torch.sum((user_emb*item_emb),axis=1)+ torch.squeeze(user_bias) + torch.squeeze(item_bias) + self.global_bias\n",
        "\n",
        "        return out.view(-1)\n",
        "\n",
        "K = 20\n",
        "\n",
        "learning_rate = 0.01\n",
        "\n",
        "def RMSELoss(yhat,y):\n",
        "    return torch.sqrt(torch.mean((yhat-y)**2))\n",
        "\n",
        "MF = MF(user_num=user_num,item_num=item_num,emb_dim=K,global_bias = global_bias).to(device)\n",
        "loss = RMSELoss\n",
        "optm = optim.SGD(MF.parameters(),lr=learning_rate)\n",
        "print (\"Done.\")\n",
        "\n"
      ],
      "metadata": {
        "id": "oANxt2NAE42s"
      },
      "execution_count": null,
      "outputs": []
    },
    {
      "cell_type": "code",
      "source": [
        "from tqdm import tqdm\n",
        "\n",
        "print (\"Start training.\")\n",
        "EPOCHS = 10\n",
        "for epoch in tqdm(range(EPOCHS)):\n",
        "    loss_val_sum = 0\n",
        "    for user,item,rating in train_iter:\n",
        "        y_pred = MF.forward(user.to(device),item.to(device))\n",
        "        loss_out = loss(y_pred,rating.to(device))\n",
        "        optm.zero_grad()  \n",
        "        loss_out.backward() \n",
        "        optm.step() \n",
        "        loss_val_sum += loss_out\n",
        "    loss_val_avg = loss_val_sum/len(train_iter)\n",
        "    print(f\"epoch : {epoch}, loss : {loss_val_avg}\")\n",
        "\n",
        "print (\"Done\")"
      ],
      "metadata": {
        "id": "RW07F6L5sMnh"
      },
      "execution_count": null,
      "outputs": []
    },
    {
      "cell_type": "markdown",
      "source": [
        "BPRMF model implementation"
      ],
      "metadata": {
        "id": "TVpmGdOQksMq"
      }
    },
    {
      "cell_type": "code",
      "source": [
        "BPRratings_df = ratings_df.copy()\n",
        "BPRratings_df['rating'] = 1\n",
        "BPRratings_df"
      ],
      "metadata": {
        "id": "vEB3B6DLmuL1"
      },
      "execution_count": null,
      "outputs": []
    },
    {
      "cell_type": "code",
      "source": [
        "class NegativeSampleMovieLens(Dataset):\n",
        "    def __init__(self,df,item_encoder,negative_num):\n",
        "        self.df = df\n",
        "        self.item_encoder = item_encoder\n",
        "        self.negative_num = negative_num\n",
        "        self.user = torch.tensor(self.df['user'].tolist())\n",
        "        self.item = torch.tensor([self.item_encoder[i] for i in self.df['item'].tolist()])\n",
        "        self.y = torch.tensor(self.df['rating'].tolist())\n",
        "        self.negative_dict = self.make_negative_dataset()\n",
        "\n",
        "    def __len__(self):\n",
        "        return len(self.df)\n",
        "\n",
        "    def __getitem__(self,idx):\n",
        "        return self.user[idx], self.item[idx], self.y[idx]\n",
        "\n",
        "    def make_negative_dataset(self):\n",
        "        negative_dict = {}\n",
        "        for idx,row in enumerate(self.df['user'].unique()):\n",
        "            negative_list = np.random.choice(list(set(self.df['item'].unique()).difference(set(self.df.loc[self.df['user']==row,'item'].values))),self.negative_num,replace=False)\n",
        "            negative_dict[row] = negative_list\n",
        "        return negative_dict"
      ],
      "metadata": {
        "id": "uaRz-NI3kt4R"
      },
      "execution_count": null,
      "outputs": []
    },
    {
      "cell_type": "code",
      "source": [
        "class BPRMF(nn.Module):\n",
        "    def __init__(self,user_num,item_num,emb_dim):\n",
        "        super(BPRMF,self).__init__()\n",
        "        self.user_emb = nn.Embedding(user_num,emb_dim)\n",
        "        self.item_emb = nn.Embedding(item_num,emb_dim)\n",
        "    \n",
        "    def forward(self,user_id,item_id):\n",
        "        user_emb = self.user_emb(user_id)\n",
        "        item_emb = self.item_emb(item_id)\n",
        "        out = F.sigmoid(torch.sum((user_emb*item_emb),axis=1))\n",
        "\n",
        "        return out.view(-1)\n",
        "\n",
        "def BPRLoss(pos,neg):\n",
        "    return -nn.LogSigmoid(pos-neg).mean()\n",
        "\n",
        "class BPR_Loss(nn.Module):\n",
        "    def __init__(self):\n",
        "        super(BPR_Loss, self).__init__()\n",
        "    \n",
        "    def forward(self, pos, neg):\n",
        "        bpr_loss = -torch.mean(torch.log(torch.sigmoid(pos - neg)))\n",
        "        return bpr_loss\n",
        "\n",
        "K = 20\n",
        "\n",
        "learning_rate = 0.01\n",
        "\n",
        "BPRMF = BPRMF(user_num=user_num,item_num=item_num,emb_dim=K).to(device)\n",
        "loss = BPR_Loss()\n",
        "optm = optim.SGD(MF.parameters(),lr=learning_rate)\n",
        "print (\"Done.\")\n"
      ],
      "metadata": {
        "id": "eXw4acfEkuG-"
      },
      "execution_count": null,
      "outputs": []
    },
    {
      "cell_type": "code",
      "source": [
        "BPRdataset = NegativeSampleMovieLens(BPRratings_df,item_encoder,4)\n",
        "BATCH_SIZE = 1\n",
        "train_iter = DataLoader(MovieLens_dataset,batch_size=BATCH_SIZE,shuffle=True,num_workers=1)"
      ],
      "metadata": {
        "id": "3Zmc7DD80qAm"
      },
      "execution_count": null,
      "outputs": []
    },
    {
      "cell_type": "code",
      "source": [
        "from tqdm import tqdm\n",
        "\n",
        "print (\"Start training.\")\n",
        "EPOCHS = 10\n",
        "for epoch in tqdm(range(EPOCHS)):\n",
        "    loss_val_sum = 0\n",
        "    for user,item, _ in train_iter:\n",
        "        user = user.to(device)\n",
        "        pos = BPRMF.forward(user,item.to(device))\n",
        "        for i in BPRdataset.negative_dict[int(user)]:\n",
        "            neg_item = torch.tensor(BPRdataset.item_encoder[i])\n",
        "            neg = BPRMF.forward(user,neg_item.to(device))\n",
        "            loss_out = loss(pos=pos,neg=neg)\n",
        "            optm.zero_grad()\n",
        "            loss_out.backward(retain_graph=True) \n",
        "            optm.step() \n",
        "            loss_val_sum += loss_out\n",
        "    loss_val_avg = loss_val_sum/len(train_iter)\n",
        "    print(f\"epoch : {epoch}, loss : {loss_val_avg}\")\n",
        "\n",
        "print (\"Done\")"
      ],
      "metadata": {
        "id": "VtuTq2FvyuRl"
      },
      "execution_count": null,
      "outputs": []
    }
  ],
  "metadata": {
    "colab": {
      "provenance": []
    },
    "kernelspec": {
      "display_name": "Python 3 (ipykernel)",
      "language": "python",
      "name": "python3"
    },
    "language_info": {
      "codemirror_mode": {
        "name": "ipython",
        "version": 3
      },
      "file_extension": ".py",
      "mimetype": "text/x-python",
      "name": "python",
      "nbconvert_exporter": "python",
      "pygments_lexer": "ipython3",
      "version": "3.8.12"
    },
    "gpuClass": "standard"
  },
  "nbformat": 4,
  "nbformat_minor": 0
}